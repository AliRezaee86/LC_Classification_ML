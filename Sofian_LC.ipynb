{
 "cells": [
  {
   "cell_type": "code",
   "execution_count": 1,
   "id": "14735cac",
   "metadata": {},
   "outputs": [],
   "source": [
    "#check the direction"
   ]
  },
  {
   "cell_type": "code",
   "execution_count": 2,
   "id": "87f561b1",
   "metadata": {},
   "outputs": [
    {
     "name": "stdout",
     "output_type": "stream",
     "text": [
      "C:\\Program Files\\Microsoft VS Code\n"
     ]
    }
   ],
   "source": [
    "import os\n",
    "print(os.getcwd())"
   ]
  },
  {
   "cell_type": "code",
   "execution_count": 3,
   "id": "e163ac71",
   "metadata": {},
   "outputs": [
    {
     "name": "stdout",
     "output_type": "stream",
     "text": [
      "H:\\Work_With_MZ\\LC_Classification_Code\n"
     ]
    }
   ],
   "source": [
    "import os\n",
    "\n",
    "# Change to your project directory (update the path as needed)\n",
    "os.chdir(r\"H:\\Work_With_MZ\\LC_Classification_Code\")\n",
    "\n",
    "# Verify the change\n",
    "print(os.getcwd())"
   ]
  },
  {
   "cell_type": "code",
   "execution_count": 4,
   "id": "da1a6a28",
   "metadata": {},
   "outputs": [],
   "source": [
    "import xarray as xr\n",
    "import pandas as pd\n",
    "import pandas as gpd\n",
    "import regionmask\n",
    "import numpy as np\n",
    "import geopandas\n",
    "import xarray as xr\n",
    "import xarray as xr\n",
    "import seaborn as sns\n",
    "import rioxarray\n",
    "from shapely.geometry import mapping\n",
    "import netCDF4\n",
    "import netCDF4 as nc\n",
    "from PIL import Image\n",
    "import os\n",
    "from netCDF4 import Dataset\n",
    "import geopandas as gpd\n",
    "import numpy as np\n",
    "from mpl_toolkits.basemap import Basemap\n",
    "import matplotlib.pyplot as plt\n",
    "import matplotlib.pyplot as plt\n",
    "from scipy.stats import linregress\n",
    "#from xarrayMannKendall import MannKendall\n",
    "import pymannkendall as mk\n",
    "import xarray as xr\n",
    "import numpy as np\n",
    "from scipy.stats import kendalltau"
   ]
  },
  {
   "cell_type": "code",
   "execution_count": 9,
   "id": "11e1a058",
   "metadata": {},
   "outputs": [
    {
     "name": "stdout",
     "output_type": "stream",
     "text": [
      "Saved as sentinel2_clipped.nc\n"
     ]
    }
   ],
   "source": [
    "import os\n",
    "import rasterio\n",
    "from rasterio.mask import mask\n",
    "from rasterio.warp import reproject, Resampling\n",
    "import geopandas as gpd\n",
    "import numpy as np\n",
    "import xarray as xr\n",
    "\n",
    "# Paths\n",
    "tif_folder = \"tif_files\"\n",
    "bands = [\"B2.tif\", \"B3.tif\", \"B4.tif\", \"B8.tif\", \"B11.tif\", \"B12.tif\"]\n",
    "shapefile = \"Province_Sofian/Export_Output.shp\"\n",
    "\n",
    "# Reference band (for resolution, transform, crs)\n",
    "ref_path = os.path.join(tif_folder, \"B2.tif\")\n",
    "with rasterio.open(ref_path) as ref:\n",
    "    ref_crs = ref.crs\n",
    "    ref_transform = ref.transform\n",
    "    ref_shape = (ref.height, ref.width)\n",
    "    ref_profile = ref.profile\n",
    "\n",
    "# Read and reproject shapefile to raster CRS\n",
    "gdf = gpd.read_file(shapefile)\n",
    "if gdf.crs != ref_crs:\n",
    "    gdf = gdf.to_crs(ref_crs)\n",
    "roi_geom = [gdf.geometry.unary_union]\n",
    "\n",
    "# Prepare output arrays\n",
    "band_arrays = []\n",
    "band_names = []\n",
    "\n",
    "for band in bands:\n",
    "    band_path = os.path.join(tif_folder, band)\n",
    "    with rasterio.open(band_path) as src:\n",
    "        # Read and resample to reference grid if needed\n",
    "        data = src.read(1)\n",
    "        if (src.transform != ref_transform) or (src.shape != ref_shape) or (src.crs != ref_crs):\n",
    "            data_resampled = np.empty(ref_shape, dtype=data.dtype)\n",
    "            reproject(\n",
    "                source=data,\n",
    "                destination=data_resampled,\n",
    "                src_transform=src.transform,\n",
    "                src_crs=src.crs,\n",
    "                dst_transform=ref_transform,\n",
    "                dst_crs=ref_crs,\n",
    "                resampling=Resampling.bilinear\n",
    "            )\n",
    "        else:\n",
    "            data_resampled = data\n",
    "\n",
    "        # Mask (clip) with ROI\n",
    "        # To use rasterio.mask, we need a dataset object, so use MemoryFile\n",
    "        with rasterio.io.MemoryFile() as memfile:\n",
    "            with memfile.open(\n",
    "                driver='GTiff',\n",
    "                height=ref_shape[0],\n",
    "                width=ref_shape[1],\n",
    "                count=1,\n",
    "                dtype=data_resampled.dtype,\n",
    "                crs=ref_crs,\n",
    "                transform=ref_transform,\n",
    "            ) as dataset:\n",
    "                dataset.write(data_resampled, 1)\n",
    "                out_image, out_transform = mask(\n",
    "                    dataset,\n",
    "                    roi_geom,\n",
    "                    crop=True,\n",
    "                    filled=True,\n",
    "                    nodata=0,\n",
    "                    all_touched=True\n",
    "                )\n",
    "        band_arrays.append(out_image[0])\n",
    "        band_names.append(band.split('.')[0])\n",
    "\n",
    "# Stack and save as NetCDF\n",
    "stacked = np.stack(band_arrays, axis=0)  # shape: (bands, y, x)\n",
    "da = xr.DataArray(\n",
    "    stacked,\n",
    "    dims=(\"band\", \"y\", \"x\"),\n",
    "    coords={\"band\": band_names}\n",
    ")\n",
    "ds = xr.Dataset({\"sentinel2\": da})\n",
    "ds.to_netcdf(\"sentinel2_clipped.nc\")\n",
    "print(\"Saved as sentinel2_clipped.nc\")"
   ]
  },
  {
   "cell_type": "code",
   "execution_count": null,
   "id": "293dec2b",
   "metadata": {},
   "outputs": [],
   "source": []
  },
  {
   "cell_type": "code",
   "execution_count": null,
   "id": "26061669",
   "metadata": {},
   "outputs": [],
   "source": []
  },
  {
   "cell_type": "code",
   "execution_count": null,
   "id": "e45c40bd",
   "metadata": {},
   "outputs": [],
   "source": []
  }
 ],
 "metadata": {
  "kernelspec": {
   "display_name": "Python 3",
   "language": "python",
   "name": "python3"
  },
  "language_info": {
   "codemirror_mode": {
    "name": "ipython",
    "version": 3
   },
   "file_extension": ".py",
   "mimetype": "text/x-python",
   "name": "python",
   "nbconvert_exporter": "python",
   "pygments_lexer": "ipython3",
   "version": "3.11.8"
  }
 },
 "nbformat": 4,
 "nbformat_minor": 5
}
