{
 "cells": [
  {
   "cell_type": "code",
   "execution_count": 1,
   "id": "14735cac",
   "metadata": {},
   "outputs": [],
   "source": [
    "#check the direction"
   ]
  },
  {
   "cell_type": "code",
   "execution_count": 2,
   "id": "87f561b1",
   "metadata": {},
   "outputs": [
    {
     "name": "stdout",
     "output_type": "stream",
     "text": [
      "C:\\Program Files\\Microsoft VS Code\n"
     ]
    }
   ],
   "source": [
    "import os\n",
    "print(os.getcwd())"
   ]
  },
  {
   "cell_type": "code",
   "execution_count": 3,
   "id": "e163ac71",
   "metadata": {},
   "outputs": [
    {
     "name": "stdout",
     "output_type": "stream",
     "text": [
      "H:\\Work_With_MZ\\LC_Classification_Code\n"
     ]
    }
   ],
   "source": [
    "import os\n",
    "\n",
    "# Change to your project directory (update the path as needed)\n",
    "os.chdir(r\"H:\\Work_With_MZ\\LC_Classification_Code\")\n",
    "\n",
    "# Verify the change\n",
    "print(os.getcwd())"
   ]
  },
  {
   "cell_type": "code",
   "execution_count": 4,
   "id": "da1a6a28",
   "metadata": {},
   "outputs": [],
   "source": [
    "import xarray as xr\n",
    "import pandas as pd\n",
    "import pandas as gpd\n",
    "import regionmask\n",
    "import numpy as np\n",
    "import geopandas\n",
    "import xarray as xr\n",
    "import xarray as xr\n",
    "import seaborn as sns\n",
    "import rioxarray\n",
    "from shapely.geometry import mapping\n",
    "import netCDF4\n",
    "import netCDF4 as nc\n",
    "from PIL import Image\n",
    "import os\n",
    "from netCDF4 import Dataset\n",
    "import geopandas as gpd\n",
    "import numpy as np\n",
    "from mpl_toolkits.basemap import Basemap\n",
    "import matplotlib.pyplot as plt\n",
    "import matplotlib.pyplot as plt\n",
    "from scipy.stats import linregress\n",
    "#from xarrayMannKendall import MannKendall\n",
    "import pymannkendall as mk\n",
    "import xarray as xr\n",
    "import numpy as np\n",
    "from scipy.stats import kendalltau"
   ]
  },
  {
   "cell_type": "code",
   "execution_count": null,
   "id": "11e1a058",
   "metadata": {},
   "outputs": [],
   "source": []
  },
  {
   "cell_type": "code",
   "execution_count": null,
   "id": "20702c16",
   "metadata": {},
   "outputs": [],
   "source": []
  },
  {
   "cell_type": "code",
   "execution_count": null,
   "metadata": {},
   "outputs": [],
   "source": []
  },
  {
   "cell_type": "code",
   "execution_count": null,
   "id": "293dec2b",
   "metadata": {},
   "outputs": [],
   "source": []
  },
  {
   "cell_type": "code",
   "execution_count": null,
   "id": "26061669",
   "metadata": {},
   "outputs": [],
   "source": []
  },
  {
   "cell_type": "code",
   "execution_count": null,
   "id": "e45c40bd",
   "metadata": {},
   "outputs": [],
   "source": []
  }
 ],
 "metadata": {
  "kernelspec": {
   "display_name": "Python 3",
   "language": "python",
   "name": "python3"
  },
  "language_info": {
   "codemirror_mode": {
    "name": "ipython",
    "version": 3
   },
   "file_extension": ".py",
   "mimetype": "text/x-python",
   "name": "python",
   "nbconvert_exporter": "python",
   "pygments_lexer": "ipython3",
   "version": "3.11.8"
  }
 },
 "nbformat": 4,
 "nbformat_minor": 5
}
